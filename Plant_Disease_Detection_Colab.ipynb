{
  "cells": [
    {
      "cell_type": "markdown",
      "metadata": {},
      "source": [
        "# Plant Disease Detection System\n",
        "\n",
        "A comprehensive deep learning system for detecting plant diseases using PyTorch and transfer learning.\n",
        "\n",
        "## Features\n",
        "- Multiple model architectures (CNN, ResNet, EfficientNet, DenseNet, VGG)\n",
        "- Advanced data augmentation\n",
        "- Transfer learning with pre-trained models\n",
        "- Comprehensive evaluation metrics\n",
        "- Model explainability with Grad-CAM\n",
        "\n",
        "## Setup\n",
        "Run the cells below to install dependencies and set up the environment.\n"
      ]
    },
    {
      "cell_type": "code",
      "execution_count": null,
      "metadata": {},
      "outputs": [],
      "source": [
        "# Check if GPU is available\n",
        "import torch\n",
        "print(f\"PyTorch version: {torch.__version__}\")\n",
        "print(f\"CUDA available: {torch.cuda.is_available()}\")\n",
        "if torch.cuda.is_available():\n",
        "    print(f\"CUDA version: {torch.version.cuda}\")\n",
        "    print(f\"GPU device: {torch.cuda.get_device_name(0)}\")\n",
        "    print(f\"GPU memory: {torch.cuda.get_device_properties(0).total_memory / 1024**3:.1f} GB\")\n",
        "else:\n",
        "    print(\"No GPU available. Training will be slower on CPU.\")\n"
      ]
    },
    {
      "cell_type": "code",
      "execution_count": null,
      "metadata": {},
      "outputs": [],
      "source": [
        "# Install required packages\n",
        "!pip install torch torchvision torchaudio --index-url https://download.pytorch.org/whl/cu118\n",
        "!pip install albumentations timm efficientnet-pytorch grad-cam\n",
        "!pip install fastapi uvicorn python-multipart\n",
        "!pip install mlflow wandb\n",
        "!pip install opencv-python scikit-image\n",
        "!pip install matplotlib seaborn plotly\n",
        "!pip install tqdm pyyaml requests\n"
      ]
    }
  ],
  "metadata": {
    "language_info": {
      "name": "python"
    }
  },
  "nbformat": 4,
  "nbformat_minor": 2
}
